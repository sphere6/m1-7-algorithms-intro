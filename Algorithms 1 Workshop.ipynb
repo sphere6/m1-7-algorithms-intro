{
 "cells": [
  {
   "cell_type": "markdown",
   "metadata": {
    "colab_type": "text",
    "id": "c8zuAcfM5lDz"
   },
   "source": [
    "# 1. Big-O Theory exercises\n",
    "\n",
    "1. What is the big-O of the following algorithm? Assume `A` is an array of numbers\n",
    "\n",
    "```python\n",
    "def number_in_array(A, num):\n",
    "  for i in range(len(A)):\n",
    "    if A[i] == num:\n",
    "      return True\n",
    "  return False\n",
    "```\n",
    "\n",
    "2. What is the big-O of the following algorithm? Assume `A` and `B` are arrays of numbers of the **same length n**\n",
    "\n",
    "```python\n",
    "def number_in_two_arrays(A, B, num):\n",
    "  arr_len = len(A)\n",
    "  for i in range(arr_len):\n",
    "    if A[i] == num:\n",
    "      return True\n",
    "  for i in range(arr_len):\n",
    "    if B[i] == num:\n",
    "      return True\n",
    "  return False\n",
    "```\n",
    "\n",
    "3. What would be the big-O above if `A` was length `n` and `B` was length `m`?\n",
    "\n",
    "4. What is the big-O of the following algorithm? Assume `A` and `B` are arrays of numbers of the **same length n**\n",
    "\n",
    "```python\n",
    "def number_in_two_arrays(A, B, num):\n",
    "  arr_len = len(A)\n",
    "  for i in range(arr_len):\n",
    "    for j in range(arr_len):\n",
    "    if A[i] == B[j]:\n",
    "      return True\n",
    "  return False\n",
    "```"
   ]
  },
  {
   "cell_type": "markdown",
   "metadata": {},
   "source": [
    "<h1>Answers to question 1</h1>\n",
    "    \n",
    "1- $O(n)$\n",
    "\n",
    "2- $O(n)$\n",
    "\n",
    "3- $O(n)$\n",
    "\n",
    "4- $O(n^2)$\n",
    "\n",
    "\n"
   ]
  },
  {
   "cell_type": "markdown",
   "metadata": {
    "colab_type": "text",
    "id": "4lz1Ha-E_CQ1"
   },
   "source": [
    "# Reverse Sort\n",
    "\n",
    "Rewrite `selection_sort` so that it sorts in **reverse order** instead (biggest element first, smallest last)"
   ]
  },
  {
   "cell_type": "code",
   "execution_count": 92,
   "metadata": {},
   "outputs": [
    {
     "name": "stdout",
     "output_type": "stream",
     "text": [
      "[5 8 5 1 0 2 3 2 9 7 2 2 9 2 4 3 5 3 0 9 0 2 7 2 7 1 6 6 7 1]\n"
     ]
    },
    {
     "data": {
      "text/plain": [
       "array([9, 9, 9, 8, 7, 7, 7, 7, 6, 6, 5, 5, 5, 4, 3, 3, 3, 2, 2, 2, 2, 2,\n",
       "       2, 2, 1, 1, 1, 0, 0, 0])"
      ]
     },
     "execution_count": 92,
     "metadata": {},
     "output_type": "execute_result"
    }
   ],
   "source": [
    "import numpy as np\n",
    "\n",
    "def find_index_max(array):\n",
    "    '''\n",
    "    Define a function which finds the index of the element which holds the maximum value in an array.\n",
    "    '''\n",
    "    a = array.copy()\n",
    "    max_value = a[0]\n",
    "    max_index = 0\n",
    "    for i in range(1,len(a)):\n",
    "        if a[i] > max_value:\n",
    "            max_value = a[i]\n",
    "            max_index = i\n",
    "    return max_index\n",
    "\n",
    "\n",
    "\n",
    "def reverse_selection_sort(array):\n",
    "    '''\n",
    "    Define a function which sorts the array from the maximum value to the minimum value by swapping the first element of the\n",
    "    array with the element which holds the maximum value in the remaining elements in the array and continue the process with\n",
    "    the second element until the whole array is sorted.\n",
    "    '''\n",
    "    a = array.copy()\n",
    "    for i in range(len(a)):\n",
    "        index_max = find_index_max(a[i:])+i\n",
    "        temp = a[i]\n",
    "        a[i] = a[index_max]\n",
    "        a[index_max] = temp\n",
    "    return a\n",
    "\n",
    "#Test\n",
    "arr = np.random.randint(0,10,30)\n",
    "print(arr)\n",
    "reverse_selection_sort(arr)    "
   ]
  },
  {
   "cell_type": "code",
   "execution_count": 93,
   "metadata": {},
   "outputs": [],
   "source": [
    "arr= np.random.randint(1,100,5000)"
   ]
  },
  {
   "cell_type": "markdown",
   "metadata": {
    "colab": {},
    "colab_type": "code",
    "id": "kLzOQr8tAAIG"
   },
   "source": [
    "# Two sum (Brute Force)\n",
    "\n",
    "Two sum. Given an array and a number N, return True if there are numbers A, B in the array such that A + B = N. Otherwise, return False.\n",
    "\n",
    "```\n",
    "two_sum([1, 2, 3, 4], 5) ⇒ True\n",
    "two_sum([3, 4, 6], 6) ⇒ False\n",
    "```\n",
    "\n",
    "Write a brute force $O(n^2)$ algorithm"
   ]
  },
  {
   "cell_type": "code",
   "execution_count": 94,
   "metadata": {},
   "outputs": [
    {
     "name": "stdout",
     "output_type": "stream",
     "text": [
      "True\n",
      "False\n"
     ]
    }
   ],
   "source": [
    "def two_sum(array, N):\n",
    "    '''\n",
    "    Function which returns True if there is a pair of numbers in the array which sums to a number N otherwise it returns False.\n",
    "    This function uses a nested loop. \n",
    "    '''\n",
    "    a = array.copy()\n",
    "    for i, num in enumerate(a):\n",
    "        for j in a[i+1:]:\n",
    "            if num + j == N:\n",
    "                return True\n",
    "    return False\n",
    "\n",
    "#Test\n",
    "print(two_sum([1, 2, 3, 4], 5))\n",
    "print(two_sum([3, 4, 6], 6))"
   ]
  },
  {
   "cell_type": "markdown",
   "metadata": {},
   "source": [
    "# Two Sum (Fast Version)\n",
    "\n",
    "Write a linear time version $O(N)$ for the two sum problem"
   ]
  },
  {
   "cell_type": "code",
   "execution_count": 95,
   "metadata": {},
   "outputs": [
    {
     "name": "stdout",
     "output_type": "stream",
     "text": [
      "True\n",
      "False\n"
     ]
    }
   ],
   "source": [
    "def two_sum(array, N):\n",
    "    '''\n",
    "    Function which returns True if there is a pair of numbers in the array which sums to a number N otherwise it returns False.\n",
    "    This function uses the search function in a python dictionary. \n",
    "    '''\n",
    "    a = array.copy()\n",
    "    dictionary ={}\n",
    "    for i, num in enumerate(a):\n",
    "        dictionary[i] = num\n",
    "\n",
    "    for i, num in enumerate(a):\n",
    "        del dictionary[i]\n",
    "        if N-num in dictionary.values():\n",
    "            return True\n",
    "        dictionary[i] = num\n",
    "    return False\n",
    "\n",
    "#Test\n",
    "print(two_sum([1, 2, 3, 4], 5))\n",
    "print(two_sum([3, 4, 6], 6))"
   ]
  },
  {
   "cell_type": "markdown",
   "metadata": {},
   "source": [
    "# Two Sum (itertools version)\n",
    "\n",
    "Use `itertools.combinations` to write a $O(N)$ algorithm for two sum"
   ]
  },
  {
   "cell_type": "code",
   "execution_count": 96,
   "metadata": {},
   "outputs": [
    {
     "name": "stdout",
     "output_type": "stream",
     "text": [
      "True\n",
      "False\n"
     ]
    }
   ],
   "source": [
    "from itertools import combinations\n",
    "\n",
    "def two_sum(array, N):\n",
    "    '''\n",
    "    Function which returns True if there is a pair of numbers in the array which sums to a number N otherwise it returns False.\n",
    "    This function finds all combinations and then loops throught the combinations to find if the sum of the pair numbers equals\n",
    "    N. \n",
    "    '''    \n",
    "    cbns = combinations(array,2)\n",
    "    for c1,c2 in cbns:\n",
    "        if c1 + c2 == N:\n",
    "            return True\n",
    "    return False\n",
    "\n",
    "#Test\n",
    "print(two_sum([1, 2, 3, 4], 5))\n",
    "print(two_sum([3, 4, 6], 6)) "
   ]
  },
  {
   "cell_type": "markdown",
   "metadata": {},
   "source": [
    "# Linked Lists\n",
    "\n",
    "Unlike a regular array, a [Linked List](https://en.wikipedia.org/wiki/Linked_list) is a container where inserting a new element somewhere in the middle is $O(1)$. \n",
    "\n",
    "For a regular array inserting an element in the middle is $O(N)$, because we need to \"shift back\" all the elements after it. In practice, we might also have to allocate new memory to fit in the element.\n",
    "\n",
    "A linked list is a series of elements, `Node(value, next)` which work as follows:\n",
    "\n",
    "- The `value` field is the element value -- python object at that place in the list (like elements in a python `list`)\n",
    "\n",
    "- The `next` field points to the next element in the linked list. In python holding a reference to the element does this (the same way a python list holds references to objects)\n",
    "\n",
    "### Exercise\n",
    "\n",
    "Implement the `Node` Class as described above then initialize a list with 5 elements `(3 -> 'cat' -> 'dog' -> 55 -> 56)`"
   ]
  },
  {
   "cell_type": "code",
   "execution_count": 97,
   "metadata": {},
   "outputs": [],
   "source": [
    "class Node:\n",
    "    def __init__(self, value, nxt=None):\n",
    "        self.value = value\n",
    "        self.nxt = nxt\n",
    "\n",
    "class LinkedList():\n",
    "    def __init__(self):\n",
    "        self.head = None\n",
    "        self.tail = None\n",
    "        self.length = 0\n",
    "        \n",
    "    def print_linked_list(self):\n",
    "        current = self.head\n",
    "        while (current != None):\n",
    "            print(current.value)\n",
    "            current = current.nxt\n",
    "        print('\\n')\n",
    "        \n",
    "    def push(self, value):\n",
    "        new_node = Node(value)\n",
    "        if self.length == 0:\n",
    "            self.head = new_node\n",
    "            self.tail = self.head\n",
    "        else:\n",
    "            self.tail.nxt = new_node\n",
    "            self.tail = new_node\n",
    "        self.length +=1\n",
    "        \n",
    "    def reverse(self):\n",
    "        current = self.head\n",
    "        previous = None\n",
    "        temp = self.tail\n",
    "        self.tail = self.head\n",
    "        self.head = temp\n",
    "        for i in range(self.length):\n",
    "            next_node = current.nxt\n",
    "            current.nxt = previous\n",
    "            previous = current\n",
    "            current = next_node"
   ]
  },
  {
   "cell_type": "code",
   "execution_count": 98,
   "metadata": {},
   "outputs": [
    {
     "name": "stdout",
     "output_type": "stream",
     "text": [
      "Linked list:\n",
      "\n",
      "3\n",
      "cat\n",
      "dog\n",
      "55\n",
      "56\n",
      "\n",
      "\n"
     ]
    }
   ],
   "source": [
    "#Test\n",
    "lst = [3, 'cat', 'dog', 55, 56]\n",
    "\n",
    "llist0 = LinkedList()\n",
    "for el in lst:\n",
    "    llist0.push(el)\n",
    "#Print reverse linked list\n",
    "print(\"Linked list:\\n\")\n",
    "llist0.print_linked_list()\n",
    "llist0.reverse()"
   ]
  },
  {
   "cell_type": "markdown",
   "metadata": {},
   "source": [
    "# Reversing a linked list\n",
    "\n",
    "Write a $O(N)$ function `reverse_ll` that reverses all the pointers in a linked list:\n",
    "\n",
    "```\n",
    "(a -> b -> c) ⇒ (c -> b -> a)\n",
    "```\n",
    "\n",
    "Note: You don't have to reverse their order in the python tuple/list if that's where you're holding them. Just reverse their `Node` pointers to each other"
   ]
  },
  {
   "cell_type": "code",
   "execution_count": 99,
   "metadata": {},
   "outputs": [
    {
     "name": "stdout",
     "output_type": "stream",
     "text": [
      "Reverse linked list:\n",
      "\n",
      "56\n",
      "55\n",
      "dog\n",
      "cat\n",
      "3\n",
      "\n",
      "\n"
     ]
    }
   ],
   "source": [
    "#Print reverse linked list\n",
    "print(\"Reverse linked list:\\n\")\n",
    "llist0.print_linked_list()"
   ]
  },
  {
   "cell_type": "code",
   "execution_count": null,
   "metadata": {},
   "outputs": [],
   "source": []
  }
 ],
 "metadata": {
  "colab": {
   "authorship_tag": "ABX9TyOATH9BoLFARMvG0o+Vj9NT",
   "collapsed_sections": [],
   "name": "Algorithms 1 Workshop.ipynb",
   "provenance": []
  },
  "kernelspec": {
   "display_name": "Python 3",
   "language": "python",
   "name": "python3"
  },
  "language_info": {
   "codemirror_mode": {
    "name": "ipython",
    "version": 3
   },
   "file_extension": ".py",
   "mimetype": "text/x-python",
   "name": "python",
   "nbconvert_exporter": "python",
   "pygments_lexer": "ipython3",
   "version": "3.8.3"
  }
 },
 "nbformat": 4,
 "nbformat_minor": 1
}
